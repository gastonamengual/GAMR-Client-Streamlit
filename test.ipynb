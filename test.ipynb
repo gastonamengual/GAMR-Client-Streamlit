{
 "cells": [
  {
   "cell_type": "code",
   "execution_count": 72,
   "metadata": {},
   "outputs": [],
   "source": [
    "import os\n",
    "import requests\n",
    "import base64\n",
    "\n",
    "API_URL = \"http://127.0.0.1:8000/detect_objects/\""
   ]
  },
  {
   "cell_type": "code",
   "execution_count": 92,
   "metadata": {},
   "outputs": [],
   "source": [
    "current_dir = os.getcwd()\n",
    "sample_img_url = f\"{current_dir}/computer.jpg\"\n",
    "\n",
    "with open(sample_img_url, \"rb\") as image_file:\n",
    "    image_bytes = image_file.read()\n",
    "\n",
    "image_base64 = base64.b64encode(image_bytes).decode(\"utf-8\")\n",
    "\n",
    "payload = {\n",
    "    \"filename\": \"people_laughing.jpg\",\n",
    "    \"image_bytes\": image_base64,\n",
    "}\n",
    "\n",
    "response = requests.post(API_URL, json=payload)"
   ]
  },
  {
   "cell_type": "code",
   "execution_count": 93,
   "metadata": {},
   "outputs": [
    {
     "data": {
      "text/plain": [
       "73262"
      ]
     },
     "execution_count": 93,
     "metadata": {},
     "output_type": "execute_result"
    }
   ],
   "source": [
    "len(image_bytes)"
   ]
  },
  {
   "cell_type": "code",
   "execution_count": null,
   "metadata": {},
   "outputs": [],
   "source": []
  },
  {
   "cell_type": "code",
   "execution_count": null,
   "metadata": {},
   "outputs": [],
   "source": []
  }
 ],
 "metadata": {
  "kernelspec": {
   "display_name": ".venv",
   "language": "python",
   "name": "python3"
  },
  "language_info": {
   "codemirror_mode": {
    "name": "ipython",
    "version": 3
   },
   "file_extension": ".py",
   "mimetype": "text/x-python",
   "name": "python",
   "nbconvert_exporter": "python",
   "pygments_lexer": "ipython3",
   "version": "3.12.9"
  },
  "orig_nbformat": 4
 },
 "nbformat": 4,
 "nbformat_minor": 2
}
